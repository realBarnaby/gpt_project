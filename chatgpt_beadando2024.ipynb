{
  "nbformat": 4,
  "nbformat_minor": 0,
  "metadata": {
    "colab": {
      "provenance": [],
      "authorship_tag": "ABX9TyOfcftAhaUqQtIxiCv4DVjH",
      "include_colab_link": true
    },
    "kernelspec": {
      "name": "python3",
      "display_name": "Python 3"
    },
    "language_info": {
      "name": "python"
    }
  },
  "cells": [
    {
      "cell_type": "markdown",
      "metadata": {
        "id": "view-in-github",
        "colab_type": "text"
      },
      "source": [
        "<a href=\"https://colab.research.google.com/github/realBarnaby/gpt_project/blob/main/chatgpt_beadando2024.ipynb\" target=\"_parent\"><img src=\"https://colab.research.google.com/assets/colab-badge.svg\" alt=\"Open In Colab\"/></a>"
      ]
    },
    {
      "cell_type": "code",
      "execution_count": null,
      "metadata": {
        "colab": {
          "base_uri": "https://localhost:8080/"
        },
        "collapsed": true,
        "id": "YLihpsLzVw7D",
        "outputId": "ee0a4361-d956-4433-cb91-ee7279cd1090"
      },
      "outputs": [
        {
          "output_type": "stream",
          "name": "stdout",
          "text": [
            "Requirement already satisfied: openai in /usr/local/lib/python3.10/dist-packages (1.37.1)\n",
            "Requirement already satisfied: langchain in /usr/local/lib/python3.10/dist-packages (0.2.11)\n",
            "Requirement already satisfied: serpapi in /usr/local/lib/python3.10/dist-packages (0.1.5)\n",
            "Requirement already satisfied: google-search-results in /usr/local/lib/python3.10/dist-packages (2.4.2)\n",
            "Requirement already satisfied: pypdf in /usr/local/lib/python3.10/dist-packages (4.3.1)\n",
            "Requirement already satisfied: tiktoken in /usr/local/lib/python3.10/dist-packages (0.7.0)\n",
            "Requirement already satisfied: faiss-cpu in /usr/local/lib/python3.10/dist-packages (1.8.0.post1)\n",
            "Requirement already satisfied: langchain_community in /usr/local/lib/python3.10/dist-packages (0.2.10)\n",
            "Requirement already satisfied: gradio in /usr/local/lib/python3.10/dist-packages (4.40.0)\n",
            "Requirement already satisfied: pymupdf in /usr/local/lib/python3.10/dist-packages (1.24.9)\n",
            "Requirement already satisfied: anyio<5,>=3.5.0 in /usr/local/lib/python3.10/dist-packages (from openai) (3.7.1)\n",
            "Requirement already satisfied: distro<2,>=1.7.0 in /usr/lib/python3/dist-packages (from openai) (1.7.0)\n",
            "Requirement already satisfied: httpx<1,>=0.23.0 in /usr/local/lib/python3.10/dist-packages (from openai) (0.27.0)\n",
            "Requirement already satisfied: pydantic<3,>=1.9.0 in /usr/local/lib/python3.10/dist-packages (from openai) (2.8.2)\n",
            "Requirement already satisfied: sniffio in /usr/local/lib/python3.10/dist-packages (from openai) (1.3.1)\n",
            "Requirement already satisfied: tqdm>4 in /usr/local/lib/python3.10/dist-packages (from openai) (4.66.4)\n",
            "Requirement already satisfied: typing-extensions<5,>=4.7 in /usr/local/lib/python3.10/dist-packages (from openai) (4.12.2)\n",
            "Requirement already satisfied: PyYAML>=5.3 in /usr/local/lib/python3.10/dist-packages (from langchain) (6.0.1)\n",
            "Requirement already satisfied: SQLAlchemy<3,>=1.4 in /usr/local/lib/python3.10/dist-packages (from langchain) (2.0.31)\n",
            "Requirement already satisfied: aiohttp<4.0.0,>=3.8.3 in /usr/local/lib/python3.10/dist-packages (from langchain) (3.9.5)\n",
            "Requirement already satisfied: async-timeout<5.0.0,>=4.0.0 in /usr/local/lib/python3.10/dist-packages (from langchain) (4.0.3)\n",
            "Requirement already satisfied: langchain-core<0.3.0,>=0.2.23 in /usr/local/lib/python3.10/dist-packages (from langchain) (0.2.26)\n",
            "Requirement already satisfied: langchain-text-splitters<0.3.0,>=0.2.0 in /usr/local/lib/python3.10/dist-packages (from langchain) (0.2.2)\n",
            "Requirement already satisfied: langsmith<0.2.0,>=0.1.17 in /usr/local/lib/python3.10/dist-packages (from langchain) (0.1.95)\n",
            "Requirement already satisfied: numpy<2,>=1 in /usr/local/lib/python3.10/dist-packages (from langchain) (1.26.4)\n",
            "Requirement already satisfied: requests<3,>=2 in /usr/local/lib/python3.10/dist-packages (from langchain) (2.31.0)\n",
            "Requirement already satisfied: tenacity!=8.4.0,<9.0.0,>=8.1.0 in /usr/local/lib/python3.10/dist-packages (from langchain) (8.5.0)\n",
            "Requirement already satisfied: regex>=2022.1.18 in /usr/local/lib/python3.10/dist-packages (from tiktoken) (2024.5.15)\n",
            "Requirement already satisfied: packaging in /usr/local/lib/python3.10/dist-packages (from faiss-cpu) (24.1)\n",
            "Requirement already satisfied: dataclasses-json<0.7,>=0.5.7 in /usr/local/lib/python3.10/dist-packages (from langchain_community) (0.6.7)\n",
            "Requirement already satisfied: aiofiles<24.0,>=22.0 in /usr/local/lib/python3.10/dist-packages (from gradio) (23.2.1)\n",
            "Requirement already satisfied: fastapi in /usr/local/lib/python3.10/dist-packages (from gradio) (0.111.1)\n",
            "Requirement already satisfied: ffmpy in /usr/local/lib/python3.10/dist-packages (from gradio) (0.4.0)\n",
            "Requirement already satisfied: gradio-client==1.2.0 in /usr/local/lib/python3.10/dist-packages (from gradio) (1.2.0)\n",
            "Requirement already satisfied: huggingface-hub>=0.19.3 in /usr/local/lib/python3.10/dist-packages (from gradio) (0.23.5)\n",
            "Requirement already satisfied: importlib-resources<7.0,>=1.3 in /usr/local/lib/python3.10/dist-packages (from gradio) (6.4.0)\n",
            "Requirement already satisfied: jinja2<4.0 in /usr/local/lib/python3.10/dist-packages (from gradio) (3.1.4)\n",
            "Requirement already satisfied: markupsafe~=2.0 in /usr/local/lib/python3.10/dist-packages (from gradio) (2.1.5)\n",
            "Requirement already satisfied: matplotlib~=3.0 in /usr/local/lib/python3.10/dist-packages (from gradio) (3.7.1)\n",
            "Requirement already satisfied: orjson~=3.0 in /usr/local/lib/python3.10/dist-packages (from gradio) (3.10.6)\n",
            "Requirement already satisfied: pandas<3.0,>=1.0 in /usr/local/lib/python3.10/dist-packages (from gradio) (2.1.4)\n",
            "Requirement already satisfied: pillow<11.0,>=8.0 in /usr/local/lib/python3.10/dist-packages (from gradio) (9.4.0)\n",
            "Requirement already satisfied: pydub in /usr/local/lib/python3.10/dist-packages (from gradio) (0.25.1)\n",
            "Requirement already satisfied: python-multipart>=0.0.9 in /usr/local/lib/python3.10/dist-packages (from gradio) (0.0.9)\n",
            "Requirement already satisfied: ruff>=0.2.2 in /usr/local/lib/python3.10/dist-packages (from gradio) (0.5.5)\n",
            "Requirement already satisfied: semantic-version~=2.0 in /usr/local/lib/python3.10/dist-packages (from gradio) (2.10.0)\n",
            "Requirement already satisfied: tomlkit==0.12.0 in /usr/local/lib/python3.10/dist-packages (from gradio) (0.12.0)\n",
            "Requirement already satisfied: typer<1.0,>=0.12 in /usr/local/lib/python3.10/dist-packages (from gradio) (0.12.3)\n",
            "Requirement already satisfied: urllib3~=2.0 in /usr/local/lib/python3.10/dist-packages (from gradio) (2.0.7)\n",
            "Requirement already satisfied: uvicorn>=0.14.0 in /usr/local/lib/python3.10/dist-packages (from gradio) (0.30.4)\n",
            "Requirement already satisfied: fsspec in /usr/local/lib/python3.10/dist-packages (from gradio-client==1.2.0->gradio) (2024.6.1)\n",
            "Requirement already satisfied: websockets<13.0,>=10.0 in /usr/local/lib/python3.10/dist-packages (from gradio-client==1.2.0->gradio) (12.0)\n",
            "Requirement already satisfied: PyMuPDFb==1.24.9 in /usr/local/lib/python3.10/dist-packages (from pymupdf) (1.24.9)\n",
            "Requirement already satisfied: aiosignal>=1.1.2 in /usr/local/lib/python3.10/dist-packages (from aiohttp<4.0.0,>=3.8.3->langchain) (1.3.1)\n",
            "Requirement already satisfied: attrs>=17.3.0 in /usr/local/lib/python3.10/dist-packages (from aiohttp<4.0.0,>=3.8.3->langchain) (23.2.0)\n",
            "Requirement already satisfied: frozenlist>=1.1.1 in /usr/local/lib/python3.10/dist-packages (from aiohttp<4.0.0,>=3.8.3->langchain) (1.4.1)\n",
            "Requirement already satisfied: multidict<7.0,>=4.5 in /usr/local/lib/python3.10/dist-packages (from aiohttp<4.0.0,>=3.8.3->langchain) (6.0.5)\n",
            "Requirement already satisfied: yarl<2.0,>=1.0 in /usr/local/lib/python3.10/dist-packages (from aiohttp<4.0.0,>=3.8.3->langchain) (1.9.4)\n",
            "Requirement already satisfied: idna>=2.8 in /usr/local/lib/python3.10/dist-packages (from anyio<5,>=3.5.0->openai) (3.7)\n",
            "Requirement already satisfied: exceptiongroup in /usr/local/lib/python3.10/dist-packages (from anyio<5,>=3.5.0->openai) (1.2.2)\n",
            "Requirement already satisfied: marshmallow<4.0.0,>=3.18.0 in /usr/local/lib/python3.10/dist-packages (from dataclasses-json<0.7,>=0.5.7->langchain_community) (3.21.3)\n",
            "Requirement already satisfied: typing-inspect<1,>=0.4.0 in /usr/local/lib/python3.10/dist-packages (from dataclasses-json<0.7,>=0.5.7->langchain_community) (0.9.0)\n",
            "Requirement already satisfied: certifi in /usr/local/lib/python3.10/dist-packages (from httpx<1,>=0.23.0->openai) (2024.7.4)\n",
            "Requirement already satisfied: httpcore==1.* in /usr/local/lib/python3.10/dist-packages (from httpx<1,>=0.23.0->openai) (1.0.5)\n",
            "Requirement already satisfied: h11<0.15,>=0.13 in /usr/local/lib/python3.10/dist-packages (from httpcore==1.*->httpx<1,>=0.23.0->openai) (0.14.0)\n",
            "Requirement already satisfied: filelock in /usr/local/lib/python3.10/dist-packages (from huggingface-hub>=0.19.3->gradio) (3.15.4)\n",
            "Requirement already satisfied: jsonpatch<2.0,>=1.33 in /usr/local/lib/python3.10/dist-packages (from langchain-core<0.3.0,>=0.2.23->langchain) (1.33)\n",
            "Requirement already satisfied: contourpy>=1.0.1 in /usr/local/lib/python3.10/dist-packages (from matplotlib~=3.0->gradio) (1.2.1)\n",
            "Requirement already satisfied: cycler>=0.10 in /usr/local/lib/python3.10/dist-packages (from matplotlib~=3.0->gradio) (0.12.1)\n",
            "Requirement already satisfied: fonttools>=4.22.0 in /usr/local/lib/python3.10/dist-packages (from matplotlib~=3.0->gradio) (4.53.1)\n",
            "Requirement already satisfied: kiwisolver>=1.0.1 in /usr/local/lib/python3.10/dist-packages (from matplotlib~=3.0->gradio) (1.4.5)\n",
            "Requirement already satisfied: pyparsing>=2.3.1 in /usr/local/lib/python3.10/dist-packages (from matplotlib~=3.0->gradio) (3.1.2)\n",
            "Requirement already satisfied: python-dateutil>=2.7 in /usr/local/lib/python3.10/dist-packages (from matplotlib~=3.0->gradio) (2.8.2)\n",
            "Requirement already satisfied: pytz>=2020.1 in /usr/local/lib/python3.10/dist-packages (from pandas<3.0,>=1.0->gradio) (2024.1)\n",
            "Requirement already satisfied: tzdata>=2022.1 in /usr/local/lib/python3.10/dist-packages (from pandas<3.0,>=1.0->gradio) (2024.1)\n",
            "Requirement already satisfied: annotated-types>=0.4.0 in /usr/local/lib/python3.10/dist-packages (from pydantic<3,>=1.9.0->openai) (0.7.0)\n",
            "Requirement already satisfied: pydantic-core==2.20.1 in /usr/local/lib/python3.10/dist-packages (from pydantic<3,>=1.9.0->openai) (2.20.1)\n",
            "Requirement already satisfied: charset-normalizer<4,>=2 in /usr/local/lib/python3.10/dist-packages (from requests<3,>=2->langchain) (3.3.2)\n",
            "Requirement already satisfied: greenlet!=0.4.17 in /usr/local/lib/python3.10/dist-packages (from SQLAlchemy<3,>=1.4->langchain) (3.0.3)\n",
            "Requirement already satisfied: click>=8.0.0 in /usr/local/lib/python3.10/dist-packages (from typer<1.0,>=0.12->gradio) (8.1.7)\n",
            "Requirement already satisfied: shellingham>=1.3.0 in /usr/local/lib/python3.10/dist-packages (from typer<1.0,>=0.12->gradio) (1.5.4)\n",
            "Requirement already satisfied: rich>=10.11.0 in /usr/local/lib/python3.10/dist-packages (from typer<1.0,>=0.12->gradio) (13.7.1)\n",
            "Requirement already satisfied: starlette<0.38.0,>=0.37.2 in /usr/local/lib/python3.10/dist-packages (from fastapi->gradio) (0.37.2)\n",
            "Requirement already satisfied: fastapi-cli>=0.0.2 in /usr/local/lib/python3.10/dist-packages (from fastapi->gradio) (0.0.4)\n",
            "Requirement already satisfied: email_validator>=2.0.0 in /usr/local/lib/python3.10/dist-packages (from fastapi->gradio) (2.2.0)\n",
            "Requirement already satisfied: dnspython>=2.0.0 in /usr/local/lib/python3.10/dist-packages (from email_validator>=2.0.0->fastapi->gradio) (2.6.1)\n",
            "Requirement already satisfied: jsonpointer>=1.9 in /usr/local/lib/python3.10/dist-packages (from jsonpatch<2.0,>=1.33->langchain-core<0.3.0,>=0.2.23->langchain) (3.0.0)\n",
            "Requirement already satisfied: six>=1.5 in /usr/local/lib/python3.10/dist-packages (from python-dateutil>=2.7->matplotlib~=3.0->gradio) (1.16.0)\n",
            "Requirement already satisfied: markdown-it-py>=2.2.0 in /usr/local/lib/python3.10/dist-packages (from rich>=10.11.0->typer<1.0,>=0.12->gradio) (3.0.0)\n",
            "Requirement already satisfied: pygments<3.0.0,>=2.13.0 in /usr/local/lib/python3.10/dist-packages (from rich>=10.11.0->typer<1.0,>=0.12->gradio) (2.16.1)\n",
            "Requirement already satisfied: mypy-extensions>=0.3.0 in /usr/local/lib/python3.10/dist-packages (from typing-inspect<1,>=0.4.0->dataclasses-json<0.7,>=0.5.7->langchain_community) (1.0.0)\n",
            "Requirement already satisfied: httptools>=0.5.0 in /usr/local/lib/python3.10/dist-packages (from uvicorn[standard]>=0.12.0->fastapi->gradio) (0.6.1)\n",
            "Requirement already satisfied: python-dotenv>=0.13 in /usr/local/lib/python3.10/dist-packages (from uvicorn[standard]>=0.12.0->fastapi->gradio) (1.0.1)\n",
            "Requirement already satisfied: uvloop!=0.15.0,!=0.15.1,>=0.14.0 in /usr/local/lib/python3.10/dist-packages (from uvicorn[standard]>=0.12.0->fastapi->gradio) (0.19.0)\n",
            "Requirement already satisfied: watchfiles>=0.13 in /usr/local/lib/python3.10/dist-packages (from uvicorn[standard]>=0.12.0->fastapi->gradio) (0.22.0)\n",
            "Requirement already satisfied: mdurl~=0.1 in /usr/local/lib/python3.10/dist-packages (from markdown-it-py>=2.2.0->rich>=10.11.0->typer<1.0,>=0.12->gradio) (0.1.2)\n",
            "Collecting langchain-openai\n",
            "  Downloading langchain_openai-0.1.20-py3-none-any.whl.metadata (2.6 kB)\n",
            "Requirement already satisfied: langchain-core<0.3.0,>=0.2.26 in /usr/local/lib/python3.10/dist-packages (from langchain-openai) (0.2.26)\n",
            "Requirement already satisfied: openai<2.0.0,>=1.32.0 in /usr/local/lib/python3.10/dist-packages (from langchain-openai) (1.37.1)\n",
            "Requirement already satisfied: tiktoken<1,>=0.7 in /usr/local/lib/python3.10/dist-packages (from langchain-openai) (0.7.0)\n",
            "Requirement already satisfied: PyYAML>=5.3 in /usr/local/lib/python3.10/dist-packages (from langchain-core<0.3.0,>=0.2.26->langchain-openai) (6.0.1)\n",
            "Requirement already satisfied: jsonpatch<2.0,>=1.33 in /usr/local/lib/python3.10/dist-packages (from langchain-core<0.3.0,>=0.2.26->langchain-openai) (1.33)\n",
            "Requirement already satisfied: langsmith<0.2.0,>=0.1.75 in /usr/local/lib/python3.10/dist-packages (from langchain-core<0.3.0,>=0.2.26->langchain-openai) (0.1.95)\n",
            "Requirement already satisfied: packaging<25,>=23.2 in /usr/local/lib/python3.10/dist-packages (from langchain-core<0.3.0,>=0.2.26->langchain-openai) (24.1)\n",
            "Requirement already satisfied: pydantic<3,>=1 in /usr/local/lib/python3.10/dist-packages (from langchain-core<0.3.0,>=0.2.26->langchain-openai) (2.8.2)\n",
            "Requirement already satisfied: tenacity!=8.4.0,<9.0.0,>=8.1.0 in /usr/local/lib/python3.10/dist-packages (from langchain-core<0.3.0,>=0.2.26->langchain-openai) (8.5.0)\n",
            "Requirement already satisfied: typing-extensions>=4.7 in /usr/local/lib/python3.10/dist-packages (from langchain-core<0.3.0,>=0.2.26->langchain-openai) (4.12.2)\n",
            "Requirement already satisfied: anyio<5,>=3.5.0 in /usr/local/lib/python3.10/dist-packages (from openai<2.0.0,>=1.32.0->langchain-openai) (3.7.1)\n",
            "Requirement already satisfied: distro<2,>=1.7.0 in /usr/lib/python3/dist-packages (from openai<2.0.0,>=1.32.0->langchain-openai) (1.7.0)\n",
            "Requirement already satisfied: httpx<1,>=0.23.0 in /usr/local/lib/python3.10/dist-packages (from openai<2.0.0,>=1.32.0->langchain-openai) (0.27.0)\n",
            "Requirement already satisfied: sniffio in /usr/local/lib/python3.10/dist-packages (from openai<2.0.0,>=1.32.0->langchain-openai) (1.3.1)\n",
            "Requirement already satisfied: tqdm>4 in /usr/local/lib/python3.10/dist-packages (from openai<2.0.0,>=1.32.0->langchain-openai) (4.66.4)\n",
            "Requirement already satisfied: regex>=2022.1.18 in /usr/local/lib/python3.10/dist-packages (from tiktoken<1,>=0.7->langchain-openai) (2024.5.15)\n",
            "Requirement already satisfied: requests>=2.26.0 in /usr/local/lib/python3.10/dist-packages (from tiktoken<1,>=0.7->langchain-openai) (2.31.0)\n",
            "Requirement already satisfied: idna>=2.8 in /usr/local/lib/python3.10/dist-packages (from anyio<5,>=3.5.0->openai<2.0.0,>=1.32.0->langchain-openai) (3.7)\n",
            "Requirement already satisfied: exceptiongroup in /usr/local/lib/python3.10/dist-packages (from anyio<5,>=3.5.0->openai<2.0.0,>=1.32.0->langchain-openai) (1.2.2)\n",
            "Requirement already satisfied: certifi in /usr/local/lib/python3.10/dist-packages (from httpx<1,>=0.23.0->openai<2.0.0,>=1.32.0->langchain-openai) (2024.7.4)\n",
            "Requirement already satisfied: httpcore==1.* in /usr/local/lib/python3.10/dist-packages (from httpx<1,>=0.23.0->openai<2.0.0,>=1.32.0->langchain-openai) (1.0.5)\n",
            "Requirement already satisfied: h11<0.15,>=0.13 in /usr/local/lib/python3.10/dist-packages (from httpcore==1.*->httpx<1,>=0.23.0->openai<2.0.0,>=1.32.0->langchain-openai) (0.14.0)\n",
            "Requirement already satisfied: jsonpointer>=1.9 in /usr/local/lib/python3.10/dist-packages (from jsonpatch<2.0,>=1.33->langchain-core<0.3.0,>=0.2.26->langchain-openai) (3.0.0)\n",
            "Requirement already satisfied: orjson<4.0.0,>=3.9.14 in /usr/local/lib/python3.10/dist-packages (from langsmith<0.2.0,>=0.1.75->langchain-core<0.3.0,>=0.2.26->langchain-openai) (3.10.6)\n",
            "Requirement already satisfied: annotated-types>=0.4.0 in /usr/local/lib/python3.10/dist-packages (from pydantic<3,>=1->langchain-core<0.3.0,>=0.2.26->langchain-openai) (0.7.0)\n",
            "Requirement already satisfied: pydantic-core==2.20.1 in /usr/local/lib/python3.10/dist-packages (from pydantic<3,>=1->langchain-core<0.3.0,>=0.2.26->langchain-openai) (2.20.1)\n",
            "Requirement already satisfied: charset-normalizer<4,>=2 in /usr/local/lib/python3.10/dist-packages (from requests>=2.26.0->tiktoken<1,>=0.7->langchain-openai) (3.3.2)\n",
            "Requirement already satisfied: urllib3<3,>=1.21.1 in /usr/local/lib/python3.10/dist-packages (from requests>=2.26.0->tiktoken<1,>=0.7->langchain-openai) (2.0.7)\n",
            "Downloading langchain_openai-0.1.20-py3-none-any.whl (48 kB)\n",
            "\u001b[2K   \u001b[90m━━━━━━━━━━━━━━━━━━━━━━━━━━━━━━━━━━━━━━━━\u001b[0m \u001b[32m48.2/48.2 kB\u001b[0m \u001b[31m2.1 MB/s\u001b[0m eta \u001b[36m0:00:00\u001b[0m\n",
            "\u001b[?25hInstalling collected packages: langchain-openai\n",
            "Successfully installed langchain-openai-0.1.20\n"
          ]
        }
      ],
      "source": [
        "# letöltések\n",
        "!pip install openai langchain serpapi google-search-results pypdf tiktoken faiss-cpu langchain_community gradio pymupdf"
      ]
    },
    {
      "cell_type": "code",
      "source": [
        "# importok\n",
        "from langchain import SerpAPIWrapper\n",
        "from langchain.agents import AgentType, initialize_agent\n",
        "from langchain.document_loaders import PyPDFLoader\n",
        "from langchain.document_loaders import PyMuPDFLoader\n",
        "from langchain.vectorstores import FAISS\n",
        "from langchain.llms import OpenAI\n",
        "from langchain.tools import BaseTool, StructuredTool, Tool, tool\n",
        "from langchain.chat_models import ChatOpenAI\n",
        "from langchain.embeddings.openai import OpenAIEmbeddings\n",
        "from langchain.text_splitter import RecursiveCharacterTextSplitter\n",
        "from langchain.agents.agent_toolkits import create_retriever_tool\n",
        "from langchain.prompts import PromptTemplate\n",
        "from langchain.chains import LLMChain\n",
        "from langchain.agents.agent_toolkits import create_conversational_retrieval_agent\n",
        "from langchain.memory import ConversationBufferMemory\n",
        "from langchain.chains import ConversationalRetrievalChain\n",
        "from langchain.schema import AIMessage, HumanMessage\n",
        "\n",
        "from google.colab import userdata\n",
        "\n",
        "import openai\n",
        "from openai import OpenAI\n",
        "\n",
        "import os\n",
        "import gdown\n",
        "import gradio as gr"
      ],
      "metadata": {
        "id": "56lHo67qj7z4",
        "collapsed": true
      },
      "execution_count": null,
      "outputs": []
    },
    {
      "cell_type": "code",
      "source": [
        "# pdfek letöltése\n",
        "url = \"https://drive.google.com/drive/u/0/folders/1NRibpSwL0W9RRLhQTXWM0d-mr9jlFq2v\"\n",
        "gdown.download_folder(url)"
      ],
      "metadata": {
        "colab": {
          "base_uri": "https://localhost:8080/"
        },
        "collapsed": true,
        "id": "ukSgL0wzdeLF",
        "outputId": "0aafdc5a-114c-432e-d6fa-42a6bea393b1"
      },
      "execution_count": null,
      "outputs": [
        {
          "output_type": "stream",
          "name": "stderr",
          "text": [
            "Retrieving folder contents\n"
          ]
        },
        {
          "output_type": "stream",
          "name": "stdout",
          "text": [
            "Processing file 1J25SOIa1sAzz3bUlrpSi5kUyRuvT9IGf informatikai_biztonsag_alapveto_fogalmak.pdf\n",
            "Processing file 1v4eGmNiaupNCahSTdwd-7fOE29L0IcPb informatikai_biztonsag_kiberhadviseles.pdf\n",
            "Processing file 1O58r0DEwmO-ePoCplpvTiup_Et42zxKD informatikai_biztonsag_social_engineering.pdf\n",
            "Processing file 1af9SYhvhk2XsIz6ZyRGzTCMVQ4RyBcKQ informatikai_biztonsag_teszteles_es_felugyelet.pdf\n",
            "Processing file 1nIHoqOPGYPC-JSz_2rXWcjLoELRDgYrJ informatikai_biztonsag_titkositas_kulcsok.pdf\n",
            "Processing file 1wd_D61QuwJesM-jNIzZVr6VALCmw1sYM informatikai_biztonsag_tuzfalak.pdf\n",
            "Processing file 1PAJlO8tTqrr4smxAWPU3pjlVeEjztGBA informatikai_biztonsag_vezetek_nelkuli_halozatok_biztonsaga.pdf\n",
            "Processing file 1r4KrIncCLWh3JJL5iiR6flLdnjxmu0nn szamitogep-halozatok_01_alapfogalmak.pdf\n",
            "Processing file 1SZAXNCQUxFEcNKV78qX2VxnfBLcPvmL8 szamitogep-halozatok_02_retegszemlelet_osi_tcpip.pdf\n",
            "Processing file 1nRcnkqOW72s1e9kv0-WczWokh7qm0M5Y szamitogep-halozatok_03_a_fizikai_reteg_es_eszkozei_atviteli_kozegek.pdf\n",
            "Processing file 1v8li-dYsgYvv4oUymKCDkfwe32CPf5ZL szamitogep-halozatok_04_adatkapcsolati_reteg.pdf\n",
            "Processing file 14LFW3bzsC2IP1YE5FzmI1kOWNNorv5JG szamitogep-halozatok_05_ethernet_alapismeretek.pdf\n",
            "Processing file 1PQYGSwHBuwcaSzbqcySfLaE2oq-epztw szamitogep-halozatok_06_a_halozati_reteg-utvalasztas_torlodasok.pdf\n",
            "Processing file 1wyba5qUm9bCZBgH0rwaiHcvd4BouRxzh szamitogep-halozatok_07_a_halozati_reteg-qos_halozatok_osszekapcsolasa.pdf\n",
            "Processing file 1Byf0mDWKjncpJzM-sgF_BvwmjtNTgirM szamitogep-halozatok_08_az_internet_halozati_retege.pdf\n",
            "Processing file 1M04Ur2RfUEd76ATlvUmrvTiz0anODIga szamitogep-halozatok_09_a_szallitasi_reteg.pdf\n",
            "Processing file 1XqDXT83EVhdZ0ESK9FIx96xBuocDJKw6 szamitogep-halozatok_10_dns.pdf\n",
            "Processing file 14wzPhTUAeb4CT4Jy6fJl6mUI8C0qNtUL szamitogep-halozatok_11_elektronikus_level.pdf\n",
            "Processing file 1cP89KrHkOqy_0mNPzZRYbSCKpzuk3gMl szamitogep-halozatok_12_spam.pdf\n",
            "Processing file 1pWb4ObweIgTAFxaD9PggYz5u9m3M0wfa szamitogep-halozatok_13_www_http.pdf\n",
            "Processing file 1vSJNDRI-Yb8aaQtCyoSS1c2rji1Js7xY szamitogep-halozatok_14_multimedia_folyamkezeles.pdf\n"
          ]
        },
        {
          "output_type": "stream",
          "name": "stderr",
          "text": [
            "Retrieving folder contents completed\n",
            "Building directory structure\n",
            "Building directory structure completed\n",
            "Downloading...\n",
            "From: https://drive.google.com/uc?id=1J25SOIa1sAzz3bUlrpSi5kUyRuvT9IGf\n",
            "To: /content/pdfek/informatikai_biztonsag_alapveto_fogalmak.pdf\n",
            "100%|██████████| 105k/105k [00:00<00:00, 74.9MB/s]\n",
            "Downloading...\n",
            "From: https://drive.google.com/uc?id=1v4eGmNiaupNCahSTdwd-7fOE29L0IcPb\n",
            "To: /content/pdfek/informatikai_biztonsag_kiberhadviseles.pdf\n",
            "100%|██████████| 186k/186k [00:00<00:00, 51.0MB/s]\n",
            "Downloading...\n",
            "From: https://drive.google.com/uc?id=1O58r0DEwmO-ePoCplpvTiup_Et42zxKD\n",
            "To: /content/pdfek/informatikai_biztonsag_social_engineering.pdf\n",
            "100%|██████████| 90.4k/90.4k [00:00<00:00, 36.5MB/s]\n",
            "Downloading...\n",
            "From: https://drive.google.com/uc?id=1af9SYhvhk2XsIz6ZyRGzTCMVQ4RyBcKQ\n",
            "To: /content/pdfek/informatikai_biztonsag_teszteles_es_felugyelet.pdf\n",
            "100%|██████████| 174k/174k [00:00<00:00, 79.8MB/s]\n",
            "Downloading...\n",
            "From: https://drive.google.com/uc?id=1nIHoqOPGYPC-JSz_2rXWcjLoELRDgYrJ\n",
            "To: /content/pdfek/informatikai_biztonsag_titkositas_kulcsok.pdf\n",
            "100%|██████████| 127k/127k [00:00<00:00, 47.1MB/s]\n",
            "Downloading...\n",
            "From: https://drive.google.com/uc?id=1wd_D61QuwJesM-jNIzZVr6VALCmw1sYM\n",
            "To: /content/pdfek/informatikai_biztonsag_tuzfalak.pdf\n",
            "100%|██████████| 181k/181k [00:00<00:00, 59.2MB/s]\n",
            "Downloading...\n",
            "From: https://drive.google.com/uc?id=1PAJlO8tTqrr4smxAWPU3pjlVeEjztGBA\n",
            "To: /content/pdfek/informatikai_biztonsag_vezetek_nelkuli_halozatok_biztonsaga.pdf\n",
            "100%|██████████| 155k/155k [00:00<00:00, 60.0MB/s]\n",
            "Downloading...\n",
            "From: https://drive.google.com/uc?id=1r4KrIncCLWh3JJL5iiR6flLdnjxmu0nn\n",
            "To: /content/pdfek/szamitogep-halozatok_01_alapfogalmak.pdf\n",
            "100%|██████████| 574k/574k [00:00<00:00, 56.6MB/s]\n",
            "Downloading...\n",
            "From: https://drive.google.com/uc?id=1SZAXNCQUxFEcNKV78qX2VxnfBLcPvmL8\n",
            "To: /content/pdfek/szamitogep-halozatok_02_retegszemlelet_osi_tcpip.pdf\n",
            "100%|██████████| 585k/585k [00:00<00:00, 78.6MB/s]\n",
            "Downloading...\n",
            "From: https://drive.google.com/uc?id=1nRcnkqOW72s1e9kv0-WczWokh7qm0M5Y\n",
            "To: /content/pdfek/szamitogep-halozatok_03_a_fizikai_reteg_es_eszkozei_atviteli_kozegek.pdf\n",
            "100%|██████████| 427k/427k [00:00<00:00, 71.6MB/s]\n",
            "Downloading...\n",
            "From: https://drive.google.com/uc?id=1v8li-dYsgYvv4oUymKCDkfwe32CPf5ZL\n",
            "To: /content/pdfek/szamitogep-halozatok_04_adatkapcsolati_reteg.pdf\n",
            "100%|██████████| 343k/343k [00:00<00:00, 55.0MB/s]\n",
            "Downloading...\n",
            "From: https://drive.google.com/uc?id=14LFW3bzsC2IP1YE5FzmI1kOWNNorv5JG\n",
            "To: /content/pdfek/szamitogep-halozatok_05_ethernet_alapismeretek.pdf\n",
            "100%|██████████| 338k/338k [00:00<00:00, 76.3MB/s]\n",
            "Downloading...\n",
            "From: https://drive.google.com/uc?id=1PQYGSwHBuwcaSzbqcySfLaE2oq-epztw\n",
            "To: /content/pdfek/szamitogep-halozatok_06_a_halozati_reteg-utvalasztas_torlodasok.pdf\n",
            "100%|██████████| 275k/275k [00:00<00:00, 66.5MB/s]\n",
            "Downloading...\n",
            "From: https://drive.google.com/uc?id=1wyba5qUm9bCZBgH0rwaiHcvd4BouRxzh\n",
            "To: /content/pdfek/szamitogep-halozatok_07_a_halozati_reteg-qos_halozatok_osszekapcsolasa.pdf\n",
            "100%|██████████| 263k/263k [00:00<00:00, 38.0MB/s]\n",
            "Downloading...\n",
            "From: https://drive.google.com/uc?id=1Byf0mDWKjncpJzM-sgF_BvwmjtNTgirM\n",
            "To: /content/pdfek/szamitogep-halozatok_08_az_internet_halozati_retege.pdf\n",
            "100%|██████████| 577k/577k [00:00<00:00, 77.6MB/s]\n",
            "Downloading...\n",
            "From: https://drive.google.com/uc?id=1M04Ur2RfUEd76ATlvUmrvTiz0anODIga\n",
            "To: /content/pdfek/szamitogep-halozatok_09_a_szallitasi_reteg.pdf\n",
            "100%|██████████| 322k/322k [00:00<00:00, 81.7MB/s]\n",
            "Downloading...\n",
            "From: https://drive.google.com/uc?id=1XqDXT83EVhdZ0ESK9FIx96xBuocDJKw6\n",
            "To: /content/pdfek/szamitogep-halozatok_10_dns.pdf\n",
            "100%|██████████| 342k/342k [00:00<00:00, 72.5MB/s]\n",
            "Downloading...\n",
            "From: https://drive.google.com/uc?id=14wzPhTUAeb4CT4Jy6fJl6mUI8C0qNtUL\n",
            "To: /content/pdfek/szamitogep-halozatok_11_elektronikus_level.pdf\n",
            "100%|██████████| 437k/437k [00:00<00:00, 58.6MB/s]\n",
            "Downloading...\n",
            "From: https://drive.google.com/uc?id=1cP89KrHkOqy_0mNPzZRYbSCKpzuk3gMl\n",
            "To: /content/pdfek/szamitogep-halozatok_12_spam.pdf\n",
            "100%|██████████| 430k/430k [00:00<00:00, 84.1MB/s]\n",
            "Downloading...\n",
            "From: https://drive.google.com/uc?id=1pWb4ObweIgTAFxaD9PggYz5u9m3M0wfa\n",
            "To: /content/pdfek/szamitogep-halozatok_13_www_http.pdf\n",
            "100%|██████████| 345k/345k [00:00<00:00, 74.9MB/s]\n",
            "Downloading...\n",
            "From: https://drive.google.com/uc?id=1vSJNDRI-Yb8aaQtCyoSS1c2rji1Js7xY\n",
            "To: /content/pdfek/szamitogep-halozatok_14_multimedia_folyamkezeles.pdf\n",
            "100%|██████████| 735k/735k [00:00<00:00, 119MB/s]\n",
            "Download completed\n"
          ]
        },
        {
          "output_type": "execute_result",
          "data": {
            "text/plain": [
              "['/content/pdfek/informatikai_biztonsag_alapveto_fogalmak.pdf',\n",
              " '/content/pdfek/informatikai_biztonsag_kiberhadviseles.pdf',\n",
              " '/content/pdfek/informatikai_biztonsag_social_engineering.pdf',\n",
              " '/content/pdfek/informatikai_biztonsag_teszteles_es_felugyelet.pdf',\n",
              " '/content/pdfek/informatikai_biztonsag_titkositas_kulcsok.pdf',\n",
              " '/content/pdfek/informatikai_biztonsag_tuzfalak.pdf',\n",
              " '/content/pdfek/informatikai_biztonsag_vezetek_nelkuli_halozatok_biztonsaga.pdf',\n",
              " '/content/pdfek/szamitogep-halozatok_01_alapfogalmak.pdf',\n",
              " '/content/pdfek/szamitogep-halozatok_02_retegszemlelet_osi_tcpip.pdf',\n",
              " '/content/pdfek/szamitogep-halozatok_03_a_fizikai_reteg_es_eszkozei_atviteli_kozegek.pdf',\n",
              " '/content/pdfek/szamitogep-halozatok_04_adatkapcsolati_reteg.pdf',\n",
              " '/content/pdfek/szamitogep-halozatok_05_ethernet_alapismeretek.pdf',\n",
              " '/content/pdfek/szamitogep-halozatok_06_a_halozati_reteg-utvalasztas_torlodasok.pdf',\n",
              " '/content/pdfek/szamitogep-halozatok_07_a_halozati_reteg-qos_halozatok_osszekapcsolasa.pdf',\n",
              " '/content/pdfek/szamitogep-halozatok_08_az_internet_halozati_retege.pdf',\n",
              " '/content/pdfek/szamitogep-halozatok_09_a_szallitasi_reteg.pdf',\n",
              " '/content/pdfek/szamitogep-halozatok_10_dns.pdf',\n",
              " '/content/pdfek/szamitogep-halozatok_11_elektronikus_level.pdf',\n",
              " '/content/pdfek/szamitogep-halozatok_12_spam.pdf',\n",
              " '/content/pdfek/szamitogep-halozatok_13_www_http.pdf',\n",
              " '/content/pdfek/szamitogep-halozatok_14_multimedia_folyamkezeles.pdf']"
            ]
          },
          "metadata": {},
          "execution_count": 8
        }
      ]
    },
    {
      "cell_type": "code",
      "source": [
        "# átírni az egészet mistral-os modellre\n",
        "search = SerpAPIWrapper(serpapi_api_key=userdata.get('SERPAPI_API_KEY'))\n",
        "\n",
        "prompt = PromptTemplate(\n",
        "    input_variables=[\"query\"],\n",
        "    template=\"{query}\"\n",
        ")\n",
        "\n",
        "llm = ChatOpenAI(api_key = userdata.get('openai_api_key3'), temperature = 0)\n",
        "llm_chain = LLMChain(llm=OpenAI(api_key = userdata.get('openai_api_key3')), prompt=prompt)"
      ],
      "metadata": {
        "id": "v4iwwxfhZvPJ",
        "colab": {
          "base_uri": "https://localhost:8080/",
          "height": 391
        },
        "outputId": "c7789777-5eb2-4d08-a37a-36422f1835de"
      },
      "execution_count": 13,
      "outputs": [
        {
          "output_type": "error",
          "ename": "ValidationError",
          "evalue": "2 validation errors for LLMChain\nllm\n  instance of Runnable expected (type=type_error.arbitrary_type; expected_arbitrary_type=Runnable)\nllm\n  instance of Runnable expected (type=type_error.arbitrary_type; expected_arbitrary_type=Runnable)",
          "traceback": [
            "\u001b[0;31m---------------------------------------------------------------------------\u001b[0m",
            "\u001b[0;31mValidationError\u001b[0m                           Traceback (most recent call last)",
            "\u001b[0;32m<ipython-input-13-e329d7fc5245>\u001b[0m in \u001b[0;36m<cell line: 9>\u001b[0;34m()\u001b[0m\n\u001b[1;32m      7\u001b[0m \u001b[0;34m\u001b[0m\u001b[0m\n\u001b[1;32m      8\u001b[0m \u001b[0mllm\u001b[0m \u001b[0;34m=\u001b[0m \u001b[0mChatOpenAI\u001b[0m\u001b[0;34m(\u001b[0m\u001b[0mapi_key\u001b[0m \u001b[0;34m=\u001b[0m \u001b[0muserdata\u001b[0m\u001b[0;34m.\u001b[0m\u001b[0mget\u001b[0m\u001b[0;34m(\u001b[0m\u001b[0;34m'openai_api_key3'\u001b[0m\u001b[0;34m)\u001b[0m\u001b[0;34m,\u001b[0m \u001b[0mtemperature\u001b[0m \u001b[0;34m=\u001b[0m \u001b[0;36m0\u001b[0m\u001b[0;34m)\u001b[0m\u001b[0;34m\u001b[0m\u001b[0;34m\u001b[0m\u001b[0m\n\u001b[0;32m----> 9\u001b[0;31m \u001b[0mllm_chain\u001b[0m \u001b[0;34m=\u001b[0m \u001b[0mLLMChain\u001b[0m\u001b[0;34m(\u001b[0m\u001b[0mllm\u001b[0m\u001b[0;34m=\u001b[0m\u001b[0mOpenAI\u001b[0m\u001b[0;34m(\u001b[0m\u001b[0mapi_key\u001b[0m \u001b[0;34m=\u001b[0m \u001b[0muserdata\u001b[0m\u001b[0;34m.\u001b[0m\u001b[0mget\u001b[0m\u001b[0;34m(\u001b[0m\u001b[0;34m'openai_api_key3'\u001b[0m\u001b[0;34m)\u001b[0m\u001b[0;34m)\u001b[0m\u001b[0;34m,\u001b[0m \u001b[0mprompt\u001b[0m\u001b[0;34m=\u001b[0m\u001b[0mprompt\u001b[0m\u001b[0;34m)\u001b[0m\u001b[0;34m\u001b[0m\u001b[0;34m\u001b[0m\u001b[0m\n\u001b[0m",
            "\u001b[0;32m/usr/local/lib/python3.10/dist-packages/langchain_core/_api/deprecation.py\u001b[0m in \u001b[0;36mwarn_if_direct_instance\u001b[0;34m(self, *args, **kwargs)\u001b[0m\n\u001b[1;32m    201\u001b[0m                         \u001b[0mwarned\u001b[0m \u001b[0;34m=\u001b[0m \u001b[0;32mTrue\u001b[0m\u001b[0;34m\u001b[0m\u001b[0;34m\u001b[0m\u001b[0m\n\u001b[1;32m    202\u001b[0m                         \u001b[0memit_warning\u001b[0m\u001b[0;34m(\u001b[0m\u001b[0;34m)\u001b[0m\u001b[0;34m\u001b[0m\u001b[0;34m\u001b[0m\u001b[0m\n\u001b[0;32m--> 203\u001b[0;31m                     \u001b[0;32mreturn\u001b[0m \u001b[0mwrapped\u001b[0m\u001b[0;34m(\u001b[0m\u001b[0mself\u001b[0m\u001b[0;34m,\u001b[0m \u001b[0;34m*\u001b[0m\u001b[0margs\u001b[0m\u001b[0;34m,\u001b[0m \u001b[0;34m**\u001b[0m\u001b[0mkwargs\u001b[0m\u001b[0;34m)\u001b[0m\u001b[0;34m\u001b[0m\u001b[0;34m\u001b[0m\u001b[0m\n\u001b[0m\u001b[1;32m    204\u001b[0m \u001b[0;34m\u001b[0m\u001b[0m\n\u001b[1;32m    205\u001b[0m                 obj.__init__ = functools.wraps(obj.__init__)(  # type: ignore[misc]\n",
            "\u001b[0;32m/usr/local/lib/python3.10/dist-packages/pydantic/v1/main.py\u001b[0m in \u001b[0;36m__init__\u001b[0;34m(__pydantic_self__, **data)\u001b[0m\n\u001b[1;32m    339\u001b[0m         \u001b[0mvalues\u001b[0m\u001b[0;34m,\u001b[0m \u001b[0mfields_set\u001b[0m\u001b[0;34m,\u001b[0m \u001b[0mvalidation_error\u001b[0m \u001b[0;34m=\u001b[0m \u001b[0mvalidate_model\u001b[0m\u001b[0;34m(\u001b[0m\u001b[0m__pydantic_self__\u001b[0m\u001b[0;34m.\u001b[0m\u001b[0m__class__\u001b[0m\u001b[0;34m,\u001b[0m \u001b[0mdata\u001b[0m\u001b[0;34m)\u001b[0m\u001b[0;34m\u001b[0m\u001b[0;34m\u001b[0m\u001b[0m\n\u001b[1;32m    340\u001b[0m         \u001b[0;32mif\u001b[0m \u001b[0mvalidation_error\u001b[0m\u001b[0;34m:\u001b[0m\u001b[0;34m\u001b[0m\u001b[0;34m\u001b[0m\u001b[0m\n\u001b[0;32m--> 341\u001b[0;31m             \u001b[0;32mraise\u001b[0m \u001b[0mvalidation_error\u001b[0m\u001b[0;34m\u001b[0m\u001b[0;34m\u001b[0m\u001b[0m\n\u001b[0m\u001b[1;32m    342\u001b[0m         \u001b[0;32mtry\u001b[0m\u001b[0;34m:\u001b[0m\u001b[0;34m\u001b[0m\u001b[0;34m\u001b[0m\u001b[0m\n\u001b[1;32m    343\u001b[0m             \u001b[0mobject_setattr\u001b[0m\u001b[0;34m(\u001b[0m\u001b[0m__pydantic_self__\u001b[0m\u001b[0;34m,\u001b[0m \u001b[0;34m'__dict__'\u001b[0m\u001b[0;34m,\u001b[0m \u001b[0mvalues\u001b[0m\u001b[0;34m)\u001b[0m\u001b[0;34m\u001b[0m\u001b[0;34m\u001b[0m\u001b[0m\n",
            "\u001b[0;31mValidationError\u001b[0m: 2 validation errors for LLMChain\nllm\n  instance of Runnable expected (type=type_error.arbitrary_type; expected_arbitrary_type=Runnable)\nllm\n  instance of Runnable expected (type=type_error.arbitrary_type; expected_arbitrary_type=Runnable)"
          ]
        }
      ]
    },
    {
      "cell_type": "code",
      "source": [
        "# a letöltött pdfek betöltése\n",
        "path = \"/content/pdfek/\"\n",
        "pdf_paths = [os.path.join(path, f) for f in os.listdir(path) if f.endswith('.pdf')]\n",
        "\n",
        "# kiiratás\n",
        "pdf_paths"
      ],
      "metadata": {
        "collapsed": true,
        "id": "YhIeHalKaUqN"
      },
      "execution_count": null,
      "outputs": []
    },
    {
      "cell_type": "code",
      "source": [
        "# a pdfek feldarabolása\n",
        "text_splitter = RecursiveCharacterTextSplitter(\n",
        "            chunk_size=1500,\n",
        "            chunk_overlap=200\n",
        ")"
      ],
      "metadata": {
        "id": "AU7w2AR5dZDM"
      },
      "execution_count": null,
      "outputs": []
    },
    {
      "cell_type": "code",
      "source": [
        "# a pdfek betöltése egy tömbbe\n",
        "pdfs = []\n",
        "for pdf_path in pdf_paths:\n",
        "  loader = PyMuPDFLoader(pdf_path)\n",
        "  docs = loader.load()\n",
        "  pdfs.extend(docs)\n",
        "\n",
        "# kiiratás\n",
        "pdfs"
      ],
      "metadata": {
        "id": "weOqXbS2kp8l",
        "collapsed": true
      },
      "execution_count": null,
      "outputs": []
    },
    {
      "cell_type": "code",
      "source": [
        "# a pdfek eltárolása vektoradatbázisban\n",
        "documents = text_splitter.split_documents(pdfs)\n",
        "db = FAISS.from_documents(documents, OpenAIEmbeddings(api_key = userdata.get('openai_api_key3')))"
      ],
      "metadata": {
        "id": "3IeirDuRlEaU"
      },
      "execution_count": null,
      "outputs": []
    },
    {
      "cell_type": "code",
      "source": [
        "# ügynökök felvétele\n",
        "tools = [\n",
        "    Tool.from_function(\n",
        "        func=search.run,\n",
        "        name=\"Search\",\n",
        "        description=\"keresésre való tool\"\n",
        "    ),\n",
        "\n",
        "    Tool(\n",
        "      name='Language Model',\n",
        "      func=llm_chain.run,\n",
        "      description='use this tool for general purpose queries and logic'\n",
        "    ),\n",
        "\n",
        "    create_retriever_tool(\n",
        "        db.as_retriever(),\n",
        "        \"rebay_kereso\",\n",
        "        \"Informatikai biztonság és számítógépes hálózatok\",\n",
        ")]"
      ],
      "metadata": {
        "id": "Q7KDKwrbmpC4"
      },
      "execution_count": null,
      "outputs": []
    },
    {
      "cell_type": "code",
      "source": [
        "# készítünk egy olyan ügynököt amely eldönti, hogy használjuk-e a vektoradatbázist\n",
        "memory = ConversationBufferMemory(\n",
        "            memory_key='chat_history',\n",
        "            return_messages=True\n",
        ")\n",
        "\n",
        "agent_executor = create_conversational_retrieval_agent(llm, tools, memory_key='chat_history', verbose=True)\n",
        "agent = initialize_agent(tools, llm = llm, agent=AgentType.ZERO_SHOT_REACT_DESCRIPTION, verbose=True, language=\"hungarian\")"
      ],
      "metadata": {
        "id": "veYRy5LerZcl"
      },
      "execution_count": null,
      "outputs": []
    },
    {
      "cell_type": "code",
      "source": [
        "# ügynökök alkalmazása és használatukkal való keresés\n",
        "qa_chain = ConversationalRetrievalChain.from_llm(llm, retriever=db.as_retriever(), memory=memory, verbose=True)\n",
        "qa_chain.run({'question':'Mekkora kulccsal kódol a DES?'})"
      ],
      "metadata": {
        "id": "2-NnhDprqVZ-",
        "collapsed": true
      },
      "execution_count": null,
      "outputs": []
    },
    {
      "cell_type": "code",
      "source": [
        "qa_chain.run({'question':'Minek a rövidítése az RSA?'})"
      ],
      "metadata": {
        "id": "5cWSCsw9uKml",
        "collapsed": true
      },
      "execution_count": null,
      "outputs": []
    },
    {
      "cell_type": "code",
      "source": [
        "qa_chain.run({'question':'Mondj példát, hogyan lehet bejutni védett helyekre'})"
      ],
      "metadata": {
        "id": "Gx4A7kKjvkcr"
      },
      "execution_count": null,
      "outputs": []
    },
    {
      "cell_type": "code",
      "source": [
        "agent.run({'page_content':None,'input':'Miért hívták a brit szigeteket Ködös Albionnak?'})"
      ],
      "metadata": {
        "id": "F-vlQJQG4hQy"
      },
      "execution_count": null,
      "outputs": []
    },
    {
      "cell_type": "code",
      "source": [
        "qa_chain.run({'question':'Hogyan lehet osztályozni a tűzfalakat a megadott dokumentumok alapján?'})"
      ],
      "metadata": {
        "id": "cR0QkO8tGHV9"
      },
      "execution_count": null,
      "outputs": []
    },
    {
      "cell_type": "code",
      "source": [
        "agent.run({'page_content':None,'input':'Hogyan lehet osztályozni a tűzfalakat a megadott dokumentumok alapján?'})"
      ],
      "metadata": {
        "id": "LSjyC4UCFamX"
      },
      "execution_count": null,
      "outputs": []
    },
    {
      "cell_type": "code",
      "source": [
        "agent.run({'page_content':None,'input':'Hogyan lehet osztályozni a tűzfalakat?'})"
      ],
      "metadata": {
        "id": "kJYCtuu0HPoq"
      },
      "execution_count": null,
      "outputs": []
    },
    {
      "cell_type": "code",
      "source": [
        "agent.run({'page_content':None,'input':'Milyen a moduláris bővíthetősége a személyes tűzfalaknak a megadott dokumentumok alapján?'})"
      ],
      "metadata": {
        "id": "tS9L9BEJCSSo"
      },
      "execution_count": null,
      "outputs": []
    },
    {
      "cell_type": "code",
      "source": [
        "# reinitialize the agent\n",
        "zero_shot_agent = initialize_agent(\n",
        "    agent=\"zero-shot-react-description\",\n",
        "    tools=tools,\n",
        "    llm=llm,\n",
        "    verbose=True,\n",
        "    max_iterations=3\n",
        ")"
      ],
      "metadata": {
        "id": "oGV0C4tXHxNZ"
      },
      "execution_count": null,
      "outputs": []
    },
    {
      "cell_type": "code",
      "source": [
        "zero_shot_agent({'page_content':'None','input':'A csomagszűrő tűzfalak megvizsgálják az IP fejlécet?'})"
      ],
      "metadata": {
        "id": "6GeVfAcyH4uF"
      },
      "execution_count": null,
      "outputs": []
    },
    {
      "cell_type": "code",
      "source": [
        "zero_shot_agent({'page_content':'None','input':'Milyen a moduláris bővíthetősége a személyes tűzfalaknak?'})"
      ],
      "metadata": {
        "id": "Q1sFYxAKIkzu"
      },
      "execution_count": null,
      "outputs": []
    },
    {
      "cell_type": "code",
      "source": [
        "zero_shot_agent({'page_content':'None','input':'Hogyan lehet osztályozni a tűzfalakat a megadott dokumentumok alapján?'})"
      ],
      "metadata": {
        "id": "PDj2vUw3I5Oi"
      },
      "execution_count": null,
      "outputs": []
    },
    {
      "cell_type": "code",
      "source": [
        "zero_shot_agent({'page_content':'None','input':'Hogyan lehet csoportosítani a tűzfalakat a megadott dokumentumok alapján?'})"
      ],
      "metadata": {
        "id": "KbNuphVyKClQ"
      },
      "execution_count": null,
      "outputs": []
    },
    {
      "cell_type": "code",
      "source": [
        "zero_shot_agent({'page_content':'None','input':'Hogyan lehet csoportosítani a tűzfalakat?'})"
      ],
      "metadata": {
        "id": "UU1dySgPJkE6"
      },
      "execution_count": null,
      "outputs": []
    },
    {
      "cell_type": "code",
      "source": [
        "qa_chain.run({'question':'Hogyan lehet osztályozni a tűzfalakat?'})"
      ],
      "metadata": {
        "id": "K-HQ4Oo7I3pO"
      },
      "execution_count": null,
      "outputs": []
    },
    {
      "cell_type": "code",
      "source": [
        "# gradio\n",
        "\"\"\"\n",
        "llm = ChatOpenAI(api_key = userdata.get('openai_api_key3'), temperature=1.0, model='gpt-3.5-turbo-0613')\n",
        "\n",
        "def predict(message, history):\n",
        "    history_langchain_format = []\n",
        "    for human, ai in history:\n",
        "        history_langchain_format.append(HumanMessage(content=human))\n",
        "        history_langchain_format.append(AIMessage(content=ai))\n",
        "    history_langchain_format.append(HumanMessage(content=message))\n",
        "    gpt_response = llm(history_langchain_format)\n",
        "    return gpt_response.content\n",
        "\n",
        "gr.ChatInterface(predict).launch()\n",
        "\"\"\"\n",
        "\n",
        "def answer_question(question):\n",
        "    response = agent.run({\"page_content\":None,\"input\":f\"{question}\"})\n",
        "    return response\n",
        "\n",
        "iface = gr.Interface(\n",
        "    fn=answer_question,\n",
        "    inputs=\"text\",\n",
        "    outputs=\"text\",\n",
        ")\n",
        "iface.launch(share=True)\n"
      ],
      "metadata": {
        "id": "iJ9NWq-oy-k6"
      },
      "execution_count": null,
      "outputs": []
    }
  ]
}